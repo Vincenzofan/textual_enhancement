{
 "cells": [
  {
   "cell_type": "code",
   "execution_count": 1,
   "metadata": {},
   "outputs": [],
   "source": [
    "from subAOI import SubAOI"
   ]
  },
  {
   "cell_type": "code",
   "execution_count": 3,
   "metadata": {},
   "outputs": [],
   "source": [
    "aoi = SubAOI(fontname = \"NetflixSans-Bold.otf\",\n",
    "            fontsize_in_px=58,\n",
    "            subtitlepath = \"TGP/EP13_final_p1.srt\",\n",
    "            screensize =(1920,1080),\n",
    "            vertical_offset=0.8493,\n",
    "            vertical_offset_top=0.1106,\n",
    "            target_words = None)"
   ]
  },
  {
   "cell_type": "code",
   "execution_count": 4,
   "metadata": {},
   "outputs": [],
   "source": [
    "results = aoi.calculate(\n",
    "    whole_line = False,\n",
    "    line_spacing=16, \n",
    "    first_line=(34, 21, 34, 8), \n",
    "    second_line = (34, 8, 34, 21), \n",
    "    single_line= (34, 15, 34, 15)\n",
    ")\n",
    "\n",
    "# possible sets:\n",
    "# 2 x fontsize: first_line=(34, 50, 34, 8), second_line = (34, 8, 34, 50), single_line= (34, 29, 34, 29)\n",
    "# 1.5 x fontsize: first_line=(34, 21, 34, 8), second_line = (34, 8, 34, 21), single_line= (34, 15, 34, 15)\n",
    "# 1.75 x fontsize: first_line=(34, 36, 34, 8), second_line = (34, 8, 34, 36), single_line = (34, 22, 34, 22)"
   ]
  },
  {
   "cell_type": "code",
   "execution_count": null,
   "metadata": {},
   "outputs": [],
   "source": [
    "results.to_csv(\"aoi_ep13_final_part1.csv\")"
   ]
  }
 ],
 "metadata": {
  "kernelspec": {
   "display_name": "py3",
   "language": "python",
   "name": "python3"
  },
  "language_info": {
   "codemirror_mode": {
    "name": "ipython",
    "version": 3
   },
   "file_extension": ".py",
   "mimetype": "text/x-python",
   "name": "python",
   "nbconvert_exporter": "python",
   "pygments_lexer": "ipython3",
   "version": "3.11.5"
  }
 },
 "nbformat": 4,
 "nbformat_minor": 2
}
